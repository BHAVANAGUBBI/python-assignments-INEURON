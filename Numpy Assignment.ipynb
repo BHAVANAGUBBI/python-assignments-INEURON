{
 "cells": [
  {
   "cell_type": "code",
   "execution_count": 1,
   "id": "5bebef1a",
   "metadata": {},
   "outputs": [],
   "source": [
    "import numpy as np"
   ]
  },
  {
   "cell_type": "markdown",
   "id": "b207ab59",
   "metadata": {},
   "source": [
    "Write a function so that the columns of the output matrix are powers of the input\n",
    "vector.\n",
    "\n",
    "The order of the powers is determined by the increasing boolean argument. Specifically, when\n",
    "increasing is False, the i-th output column is the input vector raised element-wise to the power\n",
    "of N - i - 1.\n",
    "HINT: Such a matrix with a geometric progression in each row is named for AlexandreTheophile Vandermonde."
   ]
  },
  {
   "cell_type": "code",
   "execution_count": 53,
   "id": "3aa24d0e",
   "metadata": {},
   "outputs": [],
   "source": [
    "def vander_matrix(arr,col,increasing=False):\n",
    "    if (increasing):\n",
    "        out=np.column_stack([arr**(col-1-i) for i in range6(col-1,-1,-1)])\n",
    "        return (out)\n",
    "    else:\n",
    "        out=np.column_stack([arr**(col-1-i) for i in range(col)])\n",
    "        return (out)"
   ]
  },
  {
   "cell_type": "code",
   "execution_count": 54,
   "id": "d570e634",
   "metadata": {},
   "outputs": [
    {
     "name": "stdout",
     "output_type": "stream",
     "text": [
      "Enter vector of elements: 1 2 3 4\n",
      "Enter no. of columns: 3\n"
     ]
    },
    {
     "data": {
      "text/plain": [
       "array([[ 1,  1,  1],\n",
       "       [ 4,  2,  1],\n",
       "       [ 9,  3,  1],\n",
       "       [16,  4,  1]], dtype=int32)"
      ]
     },
     "execution_count": 54,
     "metadata": {},
     "output_type": "execute_result"
    }
   ],
   "source": [
    "arr=np.array(list(map(int,input('Enter vector of elements: ').split())))\n",
    "col=int(input('Enter no. of columns: '))\n",
    "vander_matrix(arr,col)"
   ]
  },
  {
   "cell_type": "markdown",
   "id": "e3f4bfb4",
   "metadata": {},
   "source": [
    "Given a sequence of n values x1, x2, ..., xn and a window size k>0, \n",
    " the k-th moving average of\n",
    "the given sequence is defined as follows:\n",
    "The moving average sequence has n-k+1 elements as shown below.\n",
    "The moving averages with k=4 of a ten-value sequence (n=10) is shown below\n",
    "\n",
    "i 1 2 3 4 5 6 7 8 9 10\n",
    "===== == == == == == == == == == ==\n",
    "Input 10 20 30 40 50 60 70 80 90 100\n",
    "y1 25 = (10+20+30+40)/4\n",
    "y2 35 = (20+30+40+50)/4\n",
    "y3 45 = (30+40+50+60)/4\n",
    "y4 55 = (40+50+60+70)/4\n",
    "y5 65 = (50+60+70+80)/4\n",
    "y6 75 = (60+70+80+90)/4\n",
    "y7 85 = (70+80+90+100)/4\n",
    "Thus, the moving average sequence has n-k+1=10-4+1=7 values\n",
    "\n",
    "Question: Write a function to find moving average in an array over a window:\n",
    " Test it over [3, 5, 7, 2, 8, 10, 11, 65, 72, 81, 99, 100, 150] and window of 3."
   ]
  },
  {
   "cell_type": "code",
   "execution_count": 68,
   "id": "38d0ae83",
   "metadata": {},
   "outputs": [],
   "source": [
    "def moving_averges(arr,k):\n",
    "    avg=len(arr)-k+1\n",
    "    out=[]\n",
    "    for i in range(avg):\n",
    "        #print('Sequence: ',i+1)\n",
    "        #print(arr[i:i+k])\n",
    "        out.append(np.round(sum(arr[i:i+k])/k,2))\n",
    "    return print('Moving Averages Sequence: {}'.format(np.array(out)))"
   ]
  },
  {
   "cell_type": "code",
   "execution_count": 69,
   "id": "6e25f851",
   "metadata": {},
   "outputs": [
    {
     "name": "stdout",
     "output_type": "stream",
     "text": [
      "Moving Averages Sequence: [25. 35. 45. 55. 65. 75. 85.]\n"
     ]
    }
   ],
   "source": [
    "moving_averges([10,20,30,40,50,60,70,80,90,100],4)"
   ]
  },
  {
   "cell_type": "code",
   "execution_count": 70,
   "id": "a3052fd4",
   "metadata": {},
   "outputs": [
    {
     "name": "stdout",
     "output_type": "stream",
     "text": [
      "Moving Averages Sequence: [  5.     4.67   5.67   6.67   9.67  28.67  49.33  72.67  84.    93.33\n",
      " 116.33]\n"
     ]
    }
   ],
   "source": [
    "moving_averges([3,5,7,2,8,10,11,65,72,81,99,100,150],3)"
   ]
  },
  {
   "cell_type": "code",
   "execution_count": null,
   "id": "7e798de8",
   "metadata": {},
   "outputs": [],
   "source": [
    "\n"
   ]
  }
 ],
 "metadata": {
  "kernelspec": {
   "display_name": "Python 3",
   "language": "python",
   "name": "python3"
  },
  "language_info": {
   "codemirror_mode": {
    "name": "ipython",
    "version": 3
   },
   "file_extension": ".py",
   "mimetype": "text/x-python",
   "name": "python",
   "nbconvert_exporter": "python",
   "pygments_lexer": "ipython3",
   "version": "3.8.8"
  }
 },
 "nbformat": 4,
 "nbformat_minor": 5
}
