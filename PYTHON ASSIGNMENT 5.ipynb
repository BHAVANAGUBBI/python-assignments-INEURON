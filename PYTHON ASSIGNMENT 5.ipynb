{
 "cells": [
  {
   "cell_type": "markdown",
   "id": "a962cce2",
   "metadata": {},
   "source": [
    "Write a function to compute 5/0 and use try/except to catch the exceptions."
   ]
  },
  {
   "cell_type": "code",
   "execution_count": 1,
   "id": "f5ea80d7",
   "metadata": {},
   "outputs": [],
   "source": [
    "def division():\n",
    "    '''\n",
    "    This Function performs division operation\n",
    "    '''\n",
    "    try:\n",
    "        a=int(input('Enter Numerator: '))\n",
    "        b=int(input('Enter Denominator:'))\n",
    "        val=a/b\n",
    "        print(val)\n",
    "    except ZeroDivisionError:\n",
    "        print('Division by Zero is not allowed!,\\nPlease check your value and try again')\n",
    "    except Exception as e:\n",
    "        print('ERROR!!',e)\n",
    "    "
   ]
  },
  {
   "cell_type": "code",
   "execution_count": 2,
   "id": "14943cf3",
   "metadata": {},
   "outputs": [
    {
     "name": "stdout",
     "output_type": "stream",
     "text": [
      "Enter Numerator: 5\n",
      "Enter Denominator:0\n",
      "Division by Zero is not allowed!,\n",
      "Please check your value and try again\n"
     ]
    }
   ],
   "source": [
    "division()"
   ]
  },
  {
   "cell_type": "markdown",
   "id": "2d27319b",
   "metadata": {},
   "source": [
    "Implement a Python program to generate all sentences where subject is in\n",
    "[\"Americans\", \"Indians\"] and verb is in [\"Play\", \"watch\"] and the object is in\n",
    "[\"Baseball\",\"cricket\"].\n",
    "\n",
    "Hint: Subject,Verb and Object should be declared in the program as shown below.\n",
    "    \n",
    "subjects=[\"Americans \",\"Indians\"]\n",
    "verbs=[\"play\",\"watch\"]\n",
    "objects=[\"Baseball\",\"Cricket\"]\n",
    "\n",
    "Output should come as below:\n",
    "\n",
    "\n",
    "    Americans play Baseball.\n",
    "\n",
    "    Americans play Cricket.\n",
    "\n",
    "    Americans watch Baseball.\n",
    "\n",
    "    Americans watch Cricket.\n",
    "\n",
    "    Indians play Baseball.\n",
    "\n",
    "    Indians play Cricket.\n",
    "\n",
    "    Indians watch Baseball.\n",
    "\n",
    "    Indians watch Cricket."
   ]
  },
  {
   "cell_type": "code",
   "execution_count": 3,
   "id": "4c80e89d",
   "metadata": {},
   "outputs": [
    {
     "name": "stdout",
     "output_type": "stream",
     "text": [
      "Americans play Baseball.\n",
      "\n",
      "Americans play Cricket.\n",
      "\n",
      "Americans watch Baseball.\n",
      "\n",
      "Americans watch Cricket.\n",
      "\n",
      "Indians play Baseball.\n",
      "\n",
      "Indians play Cricket.\n",
      "\n",
      "Indians watch Baseball.\n",
      "\n",
      "Indians watch Cricket.\n",
      "\n"
     ]
    }
   ],
   "source": [
    "s=['Americans','Indians']\n",
    "v=['play','watch']\n",
    "o=['Baseball','Cricket']\n",
    "sent=[i+' '+j+' '+ k+'.' for i in s for j in v for k in o]\n",
    "for i in sent:\n",
    "    print(i)\n",
    "    print()"
   ]
  },
  {
   "cell_type": "code",
   "execution_count": null,
   "id": "9007948c",
   "metadata": {},
   "outputs": [],
   "source": []
  }
 ],
 "metadata": {
  "kernelspec": {
   "display_name": "Python 3",
   "language": "python",
   "name": "python3"
  },
  "language_info": {
   "codemirror_mode": {
    "name": "ipython",
    "version": 3
   },
   "file_extension": ".py",
   "mimetype": "text/x-python",
   "name": "python",
   "nbconvert_exporter": "python",
   "pygments_lexer": "ipython3",
   "version": "3.8.8"
  }
 },
 "nbformat": 4,
 "nbformat_minor": 5
}
