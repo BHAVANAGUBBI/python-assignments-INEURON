{
 "cells": [
  {
   "cell_type": "markdown",
   "id": "0634835e",
   "metadata": {},
   "source": [
    "1.1 Write a Python Program(with class concepts) to find the area of the triangle using the below\n",
    "formula.\n",
    "\n",
    "area = (s*(s-a)*(s-b)*(s-c)) ** 0.5\n",
    "\n",
    "Function to take the length of the sides of triangle from user should be defined in the parent\n",
    "class and function to calculate the area should be defined in subclass."
   ]
  },
  {
   "cell_type": "code",
   "execution_count": 22,
   "id": "374a5fdd",
   "metadata": {},
   "outputs": [],
   "source": [
    "class Triangle:\n",
    "    '''\n",
    "    class Triangle , which accepts the length of the sides of the triangle from user.\n",
    "    '''\n",
    "    def __init__(self,a,b,c):\n",
    "        self.a=a\n",
    "        self.b=b\n",
    "        self.c=c\n",
    "        print('The sides of the triangle are: {} {} {}'.format(self.a,self.b,self.c))"
   ]
  },
  {
   "cell_type": "code",
   "execution_count": 38,
   "id": "c697b9df",
   "metadata": {},
   "outputs": [],
   "source": [
    "class Area(Triangle):\n",
    "    '''\n",
    "    class that calculates the area of the triangle from the sides\\\n",
    "    that are passed to the parent class \"Triangle\".\n",
    "    '''\n",
    "    def area1(self):\n",
    "        self.s=(self.a+self.b+self.c)/2 #calculating the semi parameter\n",
    "        self.a=(self.s*(self.s-self.a)*(self.s-self.b)*(self.s-self.c))**(.5)\n",
    "        return self.a"
   ]
  },
  {
   "cell_type": "code",
   "execution_count": 40,
   "id": "6d484891",
   "metadata": {},
   "outputs": [
    {
     "name": "stdout",
     "output_type": "stream",
     "text": [
      "The sides of the triangle are: 22 22 22\n",
      "Area of Triangle is : 209.57814771583415\n",
      "The sides of the triangle are: 24 24 24\n",
      "Area of Triangle is : 249.41531628991834\n",
      "The sides of the triangle are: 26 26 26\n",
      "Area of Triangle is : 292.7165864791403\n",
      "The sides of the triangle are: 28 28 28\n",
      "Area of Triangle is : 339.4819582835\n",
      "The sides of the triangle are: 30 30 30\n",
      "Area of Triangle is : 389.7114317029974\n"
     ]
    }
   ],
   "source": [
    "l,b,h=22,22,22\n",
    "for i in range(5):\n",
    "    ar=Area(l,b,h)\n",
    "    m=ar.area1()\n",
    "    print('Area of Triangle is :',m)\n",
    "    l+=2\n",
    "    b+=2\n",
    "    h+=2"
   ]
  },
  {
   "cell_type": "markdown",
   "id": "3fbb9f36",
   "metadata": {},
   "source": [
    "Write a function filter_long_words() that takes a list of words and an integer n and returns\n",
    "the list of words that are longer than n."
   ]
  },
  {
   "cell_type": "code",
   "execution_count": 41,
   "id": "906ff235",
   "metadata": {},
   "outputs": [],
   "source": [
    "def filter_long_words(words,n):\n",
    "    '''\n",
    "    A function that gives the words that are longer than the entered integer\n",
    "    '''\n",
    "    longwords=[i for i in words if len(i)>n]\n",
    "    return longwords"
   ]
  },
  {
   "cell_type": "code",
   "execution_count": 42,
   "id": "32411a0e",
   "metadata": {},
   "outputs": [
    {
     "name": "stdout",
     "output_type": "stream",
     "text": [
      "10\n"
     ]
    }
   ],
   "source": [
    "words=['gubbi sai naga bhavana','ineuron.ai','krishna','bhushu','apple']\n",
    "n=int(input())"
   ]
  },
  {
   "cell_type": "code",
   "execution_count": 43,
   "id": "65abda86",
   "metadata": {},
   "outputs": [
    {
     "data": {
      "text/plain": [
       "['gubbi sai naga bhavana']"
      ]
     },
     "execution_count": 43,
     "metadata": {},
     "output_type": "execute_result"
    }
   ],
   "source": [
    "filter_long_words(words,n)"
   ]
  },
  {
   "cell_type": "markdown",
   "id": "50caf139",
   "metadata": {},
   "source": [
    "2.1 Write a Python program using function concept that maps list of words into a list of integers\n",
    "representing the lengths of the corresponding words.\n",
    "\n",
    "Hint: If a list [ ab,cde,erty] is passed on to the python function output should come as [2,3,4]\n",
    "Here 2,3 and 4 are the lengths of the words in the list."
   ]
  },
  {
   "cell_type": "code",
   "execution_count": 45,
   "id": "f2b1d89b",
   "metadata": {},
   "outputs": [
    {
     "data": {
      "text/plain": [
       "['gubbi sai naga bhavana', 'ineuron.ai', 'krishna', 'bhushu', 'apple']"
      ]
     },
     "execution_count": 45,
     "metadata": {},
     "output_type": "execute_result"
    }
   ],
   "source": [
    "words"
   ]
  },
  {
   "cell_type": "code",
   "execution_count": 50,
   "id": "ad3f2ae0",
   "metadata": {},
   "outputs": [],
   "source": [
    "def len_of_words(words):\n",
    "    length=[]\n",
    "    for i in words:\n",
    "        length.append(len(i))\n",
    "    return length"
   ]
  },
  {
   "cell_type": "code",
   "execution_count": 51,
   "id": "c6b7ebe2",
   "metadata": {},
   "outputs": [
    {
     "data": {
      "text/plain": [
       "[22, 10, 7, 6, 5]"
      ]
     },
     "execution_count": 51,
     "metadata": {},
     "output_type": "execute_result"
    }
   ],
   "source": [
    "len_of_words(words)"
   ]
  },
  {
   "cell_type": "markdown",
   "id": "097afa08",
   "metadata": {},
   "source": [
    "2.2 Write a Python function which takes a character (i.e. a string of length 1) and returns True if\n",
    "it is a vowel, False otherwise."
   ]
  },
  {
   "cell_type": "code",
   "execution_count": 53,
   "id": "8e8596d6",
   "metadata": {},
   "outputs": [],
   "source": [
    "def vowelornot():\n",
    "    '''\n",
    "    Accepts a single charecter from user and \n",
    "    returns True if its an Vowel.\n",
    "    returns False if its a consonant.\n",
    "    '''\n",
    "    flag=True\n",
    "    while(flag):\n",
    "        ch=input('Enter a single charecter: ')\n",
    "        if len(ch)==1:\n",
    "            flag=False\n",
    "            if ch.lower() in ['a','e','i','o','u']:\n",
    "                return True\n",
    "            else:\n",
    "                return False\n",
    "        else:\n",
    "            print('Entered string is not a single charecter, please enter a single charecter!')"
   ]
  },
  {
   "cell_type": "code",
   "execution_count": 56,
   "id": "d2c36426",
   "metadata": {},
   "outputs": [
    {
     "name": "stdout",
     "output_type": "stream",
     "text": [
      "Enter a single charecter: A\n"
     ]
    },
    {
     "data": {
      "text/plain": [
       "True"
      ]
     },
     "execution_count": 56,
     "metadata": {},
     "output_type": "execute_result"
    }
   ],
   "source": [
    "vowelornot()"
   ]
  },
  {
   "cell_type": "code",
   "execution_count": null,
   "id": "07906234",
   "metadata": {},
   "outputs": [],
   "source": []
  }
 ],
 "metadata": {
  "kernelspec": {
   "display_name": "Python 3",
   "language": "python",
   "name": "python3"
  },
  "language_info": {
   "codemirror_mode": {
    "name": "ipython",
    "version": 3
   },
   "file_extension": ".py",
   "mimetype": "text/x-python",
   "name": "python",
   "nbconvert_exporter": "python",
   "pygments_lexer": "ipython3",
   "version": "3.8.8"
  }
 },
 "nbformat": 4,
 "nbformat_minor": 5
}
