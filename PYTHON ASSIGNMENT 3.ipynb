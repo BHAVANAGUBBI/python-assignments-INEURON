{
 "cells": [
  {
   "cell_type": "code",
   "execution_count": 1,
   "id": "3e43cf54",
   "metadata": {},
   "outputs": [
    {
     "data": {
      "text/plain": [
       "['x', 'xx', 'xxx', 'xxxx', 'y', 'yy', 'yyy', 'yyyy', 'z', 'zz', 'zzz', 'zzzz']"
      ]
     },
     "execution_count": 1,
     "metadata": {},
     "output_type": "execute_result"
    }
   ],
   "source": [
    "[i*j for i in ['x','y','z'] for j in range(1,5)]"
   ]
  },
  {
   "cell_type": "code",
   "execution_count": 2,
   "id": "8d84e9db",
   "metadata": {},
   "outputs": [
    {
     "data": {
      "text/plain": [
       "['x', 'y', 'z', 'xx', 'yy', 'zz', 'xxx', 'yyy', 'zzz', 'xxxx', 'yyyy', 'zzzz']"
      ]
     },
     "execution_count": 2,
     "metadata": {},
     "output_type": "execute_result"
    }
   ],
   "source": [
    "[i*j for j in range(1,5) for i in ['x','y','z'] ]"
   ]
  },
  {
   "cell_type": "code",
   "execution_count": 3,
   "id": "f6adb043",
   "metadata": {},
   "outputs": [
    {
     "data": {
      "text/plain": [
       "[(1, 1), (2, 1), (3, 1), (1, 2), (2, 2), (3, 2), (1, 3), (2, 3), (3, 3)]"
      ]
     },
     "execution_count": 3,
     "metadata": {},
     "output_type": "execute_result"
    }
   ],
   "source": [
    "[(i,j) for j in range(1,4) for i in range(1,4) ]"
   ]
  },
  {
   "cell_type": "code",
   "execution_count": 4,
   "id": "170a0510",
   "metadata": {},
   "outputs": [
    {
     "data": {
      "text/plain": [
       "[[2, 3, 4, 5], [3, 4, 5, 6], [4, 5, 6, 7]]"
      ]
     },
     "execution_count": 4,
     "metadata": {},
     "output_type": "execute_result"
    }
   ],
   "source": [
    "[[i] for j in range(2,5) for i in range(j,j+3)]\n",
    "[[j,j+1,j+2,j+3] for j in range(2,5)]"
   ]
  },
  {
   "cell_type": "code",
   "execution_count": 5,
   "id": "49ccf5c0",
   "metadata": {},
   "outputs": [
    {
     "data": {
      "text/plain": [
       "[[2, 3, 4, 5], [3, 4, 5, 6], [4, 5, 6, 7]]"
      ]
     },
     "execution_count": 5,
     "metadata": {},
     "output_type": "execute_result"
    }
   ],
   "source": [
    "[[j,j+1,j+2,j+3] for j in range(2,5)]"
   ]
  },
  {
   "cell_type": "markdown",
   "id": "da06b4ff",
   "metadata": {},
   "source": [
    "# MY FILTER"
   ]
  },
  {
   "cell_type": "code",
   "execution_count": 6,
   "id": "a42df453",
   "metadata": {},
   "outputs": [],
   "source": [
    "def myfilter(f,inp):\n",
    "    #checking if inp is iterable or not\n",
    "    try:\n",
    "        myinp=list(inp) #converting the iterable in the form of list\n",
    "        myfunc=f\n",
    "        temp=[]\n",
    "        for i in myinp:\n",
    "            if myfunc(i):\n",
    "                temp.append(i)\n",
    "        if temp: #if the temp is not null or not empty\n",
    "            return temp\n",
    "        else: #incase if the temp is null.\n",
    "            return []\n",
    "    except Exception as e:\n",
    "        print(e)"
   ]
  },
  {
   "cell_type": "code",
   "execution_count": 8,
   "id": "47f1a8b5",
   "metadata": {},
   "outputs": [
    {
     "data": {
      "text/plain": [
       "[0, 1, 2, 3, 4, 5, 6, 7, 8, 9]"
      ]
     },
     "execution_count": 8,
     "metadata": {},
     "output_type": "execute_result"
    }
   ],
   "source": [
    "list(filter(lambda a:a if type(a)==str else 'ok',range(10)))"
   ]
  },
  {
   "cell_type": "code",
   "execution_count": 9,
   "id": "61182c71",
   "metadata": {},
   "outputs": [
    {
     "data": {
      "text/plain": [
       "[0, 1, 2, 3, 4, 5, 6, 7, 8, 9]"
      ]
     },
     "execution_count": 9,
     "metadata": {},
     "output_type": "execute_result"
    }
   ],
   "source": [
    "myfilter(lambda a:a if type(a)==str else 'ok',range(10))"
   ]
  },
  {
   "cell_type": "markdown",
   "id": "1aaff8eb",
   "metadata": {},
   "source": [
    "# MY REDUCE"
   ]
  },
  {
   "cell_type": "code",
   "execution_count": 10,
   "id": "ccde4c87",
   "metadata": {},
   "outputs": [],
   "source": [
    "def myreduce(function,item):\n",
    "    '''\n",
    "    accepts a function & iterable and returns the reduced/ comprehended output\n",
    "    '''\n",
    "    try:\n",
    "        myitem=list(item)\n",
    "        if len(myitem)==1 : #if the list contains only one item, then return the item itself\n",
    "            return myitem[0]\n",
    "        elif len(myitem)==2: #if the list contains only 2 items, then call the function\n",
    "            myitem=list(item) #converting the iterable to a list\n",
    "            return function(myitem[0],myitem[1])\n",
    "        else:\n",
    "            #if the iterable length is greater than 2, then we need to hold the temp value of the function\n",
    "            a=myitem[0] #storing the 1st element\n",
    "            #b=myitem[1]#storing the 2nd element\n",
    "            item1=myitem[1:] #the custom item list\n",
    "            for i in range(len(item1)):\n",
    "                temp=function(a,item1[i]) #first function call using 1st & 2nd elements\n",
    "                a=temp\n",
    "            return a\n",
    "    except Exception as e:\n",
    "        print(e)\n"
   ]
  },
  {
   "cell_type": "code",
   "execution_count": 11,
   "id": "46f91414",
   "metadata": {},
   "outputs": [],
   "source": [
    "from functools import reduce"
   ]
  },
  {
   "cell_type": "code",
   "execution_count": 12,
   "id": "2a986e1e",
   "metadata": {},
   "outputs": [],
   "source": [
    "it=[66,9,80,1111,9999,6,3,100]"
   ]
  },
  {
   "cell_type": "code",
   "execution_count": 13,
   "id": "6c1d0bec",
   "metadata": {},
   "outputs": [
    {
     "data": {
      "text/plain": [
       "11374"
      ]
     },
     "execution_count": 13,
     "metadata": {},
     "output_type": "execute_result"
    }
   ],
   "source": [
    "reduce(lambda a,b:a+b,it)"
   ]
  },
  {
   "cell_type": "code",
   "execution_count": 14,
   "id": "787e371d",
   "metadata": {},
   "outputs": [
    {
     "data": {
      "text/plain": [
       "11374"
      ]
     },
     "execution_count": 14,
     "metadata": {},
     "output_type": "execute_result"
    }
   ],
   "source": [
    "myreduce(lambda a,b:a+b,it)"
   ]
  }
 ],
 "metadata": {
  "kernelspec": {
   "display_name": "Python 3",
   "language": "python",
   "name": "python3"
  },
  "language_info": {
   "codemirror_mode": {
    "name": "ipython",
    "version": 3
   },
   "file_extension": ".py",
   "mimetype": "text/x-python",
   "name": "python",
   "nbconvert_exporter": "python",
   "pygments_lexer": "ipython3",
   "version": "3.8.8"
  }
 },
 "nbformat": 4,
 "nbformat_minor": 5
}
