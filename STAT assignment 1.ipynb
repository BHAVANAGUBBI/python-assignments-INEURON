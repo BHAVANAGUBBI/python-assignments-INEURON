{
 "cells": [
  {
   "cell_type": "code",
   "execution_count": 7,
   "id": "d8e9fe04",
   "metadata": {},
   "outputs": [],
   "source": [
    "import numpy as np\n",
    "import statistics as st"
   ]
  },
  {
   "cell_type": "markdown",
   "id": "d6f904b9",
   "metadata": {},
   "source": [
    "# Calculate the mean, median, mode and standard deviation for the problem statements 1& 2."
   ]
  },
  {
   "cell_type": "markdown",
   "id": "c5a64d73",
   "metadata": {},
   "source": [
    "PRB 1: The marks awarded for an assignment set for a Year 8 class of 20 students were as follows: 6 7 5 7 7 8 7 6 9 7 4 10 6 8 8 9 5 6 4 8"
   ]
  },
  {
   "cell_type": "code",
   "execution_count": 3,
   "id": "de5660af",
   "metadata": {},
   "outputs": [],
   "source": [
    "marks=np.array([6, 7 ,5 ,7, 7, 8, 7, 6, 9, 7, 4, 10, 6, 8, 8, 9, 5, 6, 4, 8])"
   ]
  },
  {
   "cell_type": "code",
   "execution_count": 15,
   "id": "164b8d91",
   "metadata": {},
   "outputs": [
    {
     "name": "stdout",
     "output_type": "stream",
     "text": [
      "[ 6  7  5  7  7  8  7  6  9  7  4 10  6  8  8  9  5  6  4  8]\n"
     ]
    }
   ],
   "source": [
    "print(marks)"
   ]
  },
  {
   "cell_type": "code",
   "execution_count": 13,
   "id": "22a913b9",
   "metadata": {},
   "outputs": [
    {
     "name": "stdout",
     "output_type": "stream",
     "text": [
      "The Mean of the above marks is : 6.85\n",
      "The Median of the above marks is : 7.0\n",
      "The Mode of the above marks is : 7\n",
      "The Std. Deviation of the above marks is : 1.4142135623730951\n"
     ]
    }
   ],
   "source": [
    "print('The Mean of the above marks is : {}'.format(marks.mean()))\n",
    "print('The Median of the above marks is : {}'.format(np.median(marks)))\n",
    "print('The Mode of the above marks is : {}'.format(st.mode(marks)))\n",
    "print('The Std. Deviation of the above marks is : {}'.format(st.stdev(marks)))"
   ]
  },
  {
   "cell_type": "markdown",
   "id": "2c854e0b",
   "metadata": {},
   "source": [
    "PRB 2: The number of calls from motorists per day for roadside service was recorded for a\n",
    "particular month:\n",
    "28, 122, 217, 130, 120, 86, 80, 90, 140, 120, 70, 40, 145, 113, 90, 68, 174, 194, 170,\n",
    "100, 75, 104, 97, 75,\n",
    "123, 100, 75, 104, 97, 75, 123, 100, 89, 120, 109"
   ]
  },
  {
   "cell_type": "code",
   "execution_count": 16,
   "id": "b055183b",
   "metadata": {},
   "outputs": [],
   "source": [
    "calls=np.array([28, 122, 217, 130, 120, 86, 80, 90, 140, 120, 70, 40, 145, 113, 90, 68, 174, 194, 170, 100, 75, 104, 97, 75, 123, 100, 75, 104, 97, 75, 123, 100, 89, 120, 109])"
   ]
  },
  {
   "cell_type": "code",
   "execution_count": 17,
   "id": "62c4e707",
   "metadata": {},
   "outputs": [
    {
     "name": "stdout",
     "output_type": "stream",
     "text": [
      "The Mean of the above calls is : 107.51428571428572\n",
      "The Median of the above calls is : 100.0\n",
      "The Mode of the above calls is : 75\n",
      "The Std. Deviation of the above calls is : 39.331920878594275\n"
     ]
    }
   ],
   "source": [
    "print('The Mean of the above calls is : {}'.format(calls.mean()))\n",
    "print('The Median of the above calls is : {}'.format(np.median(calls)))\n",
    "print('The Mode of the above calls is : {}'.format(st.mode(calls)))\n",
    "print('The Std. Deviation of the above calls is : {}'.format(st.stdev(calls)))"
   ]
  },
  {
   "cell_type": "markdown",
   "id": "000d50fc",
   "metadata": {},
   "source": [
    "PRB 3:The number of times I go to the gym in weekdays, are given below along with its\n",
    "associated probability:\n",
    "x = 0, 1, 2, 3, 4, 5\n",
    "f(x) = 0.09, 0.15, 0.40, 0.25, 0.10, 0.01\n",
    "Calculate the mean no. of workouts in a week. Also evaluate the variance involved in\n",
    "it."
   ]
  },
  {
   "cell_type": "code",
   "execution_count": 18,
   "id": "46af5cf5",
   "metadata": {},
   "outputs": [],
   "source": [
    "work=np.array([0,1,2,3,4,5])"
   ]
  },
  {
   "cell_type": "code",
   "execution_count": 19,
   "id": "95b6f1e9",
   "metadata": {},
   "outputs": [
    {
     "name": "stdout",
     "output_type": "stream",
     "text": [
      "The Mean of the above workouts is : 2.5\n",
      "The Variance of the above workouts is : 3\n"
     ]
    }
   ],
   "source": [
    "print('The Mean of the above workouts is : {}'.format(work.mean()))\n",
    "print('The Variance of the above workouts is : {}'.format(st.variance(work)))"
   ]
  },
  {
   "cell_type": "markdown",
   "id": "0e5b4af8",
   "metadata": {},
   "source": [
    "Problem Statement 4:\n",
    "Let the continuous random variable D denote the diameter of the hole drilled in an\n",
    "aluminum sheet. The target diameter to be achieved is 12.5mm. Random\n",
    "disturbances in the process often result in inaccuracy.\n",
    "Historical data shows that the distribution of D can be modelled by the PDF (d) =\n",
    "20e−20(d−12.5), d ≥ 12.5. If a part with diameter > 12.6 mm needs to be scrapped,\n",
    "what is the proportion of those parts? What is the CDF when the diameter is of 11\n",
    "mm? What is your conclusion regarding the proportion of scraps?"
   ]
  },
  {
   "cell_type": "code",
   "execution_count": null,
   "id": "eec4409d",
   "metadata": {},
   "outputs": [],
   "source": []
  }
 ],
 "metadata": {
  "kernelspec": {
   "display_name": "Python 3",
   "language": "python",
   "name": "python3"
  },
  "language_info": {
   "codemirror_mode": {
    "name": "ipython",
    "version": 3
   },
   "file_extension": ".py",
   "mimetype": "text/x-python",
   "name": "python",
   "nbconvert_exporter": "python",
   "pygments_lexer": "ipython3",
   "version": "3.8.8"
  }
 },
 "nbformat": 4,
 "nbformat_minor": 5
}
